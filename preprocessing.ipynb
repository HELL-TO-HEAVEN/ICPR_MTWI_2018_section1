{
 "cells": [
  {
   "cell_type": "code",
   "execution_count": null,
   "metadata": {},
   "outputs": [],
   "source": [
    "from PIL import Image\n",
    "import numpy as np\n",
    "import glob\n",
    "import os\n",
    "import pandas as pd"
   ]
  },
  {
   "cell_type": "code",
   "execution_count": null,
   "metadata": {},
   "outputs": [],
   "source": [
    "images_path = \"image_train/\"\n",
    "texts_path = \"txt_train/\"\n",
    "sentence_file_path = \"sentences.csv\"\n",
    "images_output_path = \"image_output/\"\n",
    "images = glob.glob(images_path + \"*.jpg\")\n",
    "texts = glob.glob(texts_path + \"*.txt\")"
   ]
  },
  {
   "cell_type": "code",
   "execution_count": null,
   "metadata": {},
   "outputs": [],
   "source": [
    "def preprocessing_image(image, position_list):\n",
    "    # 将原始坐标数组转化为点坐标数组\n",
    "    def pos2points(position_list):\n",
    "        res = []\n",
    "        tmp = []\n",
    "        for i in range(len(position_list)):\n",
    "            tmp.append(position_list[i])\n",
    "            if(i % 2 == 1):\n",
    "                tmp = np.array(tmp)\n",
    "                res.append(tmp)\n",
    "                tmp = []\n",
    "        return res\n",
    "    pts = pos2points(position_list)\n",
    "    # 求矩形高\n",
    "    h = int(np.linalg.norm(pts[0]-pts[1]))\n",
    "    # 求矩形宽\n",
    "    w = int(np.linalg.norm(pts[1]-pts[2]))\n",
    "    # 进行变换\n",
    "    res_img = image.transform((w,h),Image.QUAD,tuple(position_list)).rotate(180)\n",
    "    # 如果是左右倒了\n",
    "    if pts[0][1]-pts[1][1] < 0:\n",
    "        res_img = res_img.transpose(Image.FLIP_TOP_BOTTOM)\n",
    "    # 如果是上下倒了\n",
    "    if pts[0][0] - pts[2][0] < 0:\n",
    "        res_img = res_img.transpose(Image.FLIP_LEFT_RIGHT)\n",
    "    return res_img"
   ]
  },
  {
   "cell_type": "code",
   "execution_count": null,
   "metadata": {},
   "outputs": [],
   "source": [
    "def main():\n",
    "    index = 0\n",
    "    f = open(sentence_file_path, \"w\", encoding='utf-8')\n",
    "    f.write(\"index,content\\n\")\n",
    "    for i in range(len(images)):\n",
    "        text_content = pd.read_csv(texts[i], header=None,error_bad_lines=False,quoting=3, encoding='utf-8').loc[:,0:8]\n",
    "        text_content = text_content[text_content[8] != \"###\"]\n",
    "        image_content = Image.open(images[i]).convert('RGB')\n",
    "        if i % 100 == 0:\n",
    "            print(i,index)\n",
    "        for x in text_content.itertuples():\n",
    "            try:\n",
    "                a = preprocessing_image(image_content, list(x[1:9]))\n",
    "            except ZeroDivisionError:\n",
    "                pass\n",
    "            a.save(images_output_path + str(index) + \".jpg\", \"jpeg\")\n",
    "            f.write(str(index) + ',' + str(x[9]) + '\\n')\n",
    "            index = index + 1\n",
    "    f.close()\n",
    "if __name__ == '__main__':\n",
    "    main()"
   ]
  }
 ],
 "metadata": {
  "kernelspec": {
   "display_name": "Python 3",
   "language": "python",
   "name": "python3"
  },
  "language_info": {
   "codemirror_mode": {
    "name": "ipython",
    "version": 3
   },
   "file_extension": ".py",
   "mimetype": "text/x-python",
   "name": "python",
   "nbconvert_exporter": "python",
   "pygments_lexer": "ipython3",
   "version": "3.6.7"
  }
 },
 "nbformat": 4,
 "nbformat_minor": 2
}
