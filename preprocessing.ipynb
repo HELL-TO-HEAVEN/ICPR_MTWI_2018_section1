{
 "cells": [
  {
   "cell_type": "code",
   "execution_count": 1,
   "metadata": {},
   "outputs": [],
   "source": [
    "from PIL import Image\n",
    "import numpy as np\n",
    "import glob\n",
    "import os\n",
    "import pandas as pd"
   ]
  },
  {
   "cell_type": "code",
   "execution_count": 2,
   "metadata": {},
   "outputs": [],
   "source": [
    "images_path = \"image_train/\"\n",
    "texts_path = \"txt_train/\"\n",
    "sentence_file_path = \"sentences.csv\"\n",
    "images_output_path = \"image_output/\"\n",
    "images = glob.glob(images_path + \"*.jpg\")\n",
    "texts = glob.glob(texts_path + \"*.txt\")"
   ]
  },
  {
   "cell_type": "code",
   "execution_count": 3,
   "metadata": {},
   "outputs": [],
   "source": [
    "def preprocessing_image(image, position_list):\n",
    "    # 将原始坐标数组转化为点坐标数组\n",
    "    def pos2points(position_list):\n",
    "        res = []\n",
    "        tmp = []\n",
    "        for i in range(len(position_list)):\n",
    "            tmp.append(position_list[i])\n",
    "            if(i % 2 == 1):\n",
    "                tmp = np.array(tmp)\n",
    "                res.append(tmp)\n",
    "                tmp = []\n",
    "        return res\n",
    "    pts = pos2points(position_list)\n",
    "    # 求矩形高\n",
    "    h = int(np.linalg.norm(pts[0]-pts[1]))\n",
    "    # 求矩形宽\n",
    "    w = int(np.linalg.norm(pts[1]-pts[2]))\n",
    "    # 进行变换，旋转，水平翻转\n",
    "    res_img = image.transform((w,h),Image.QUAD,tuple(position_list)).rotate(180)\n",
    "    # 如果是左右倒了\n",
    "    if pts[0][1]-pts[1][1] < 0:\n",
    "        res_img = res_img.transpose(Image.FLIP_TOP_BOTTOM)\n",
    "    # 如果是上下倒了\n",
    "    if pts[0][0] - pts[2][0] < 0:\n",
    "        res_img = res_img.transpose(Image.FLIP_LEFT_RIGHT)\n",
    "    return res_img"
   ]
  },
  {
   "cell_type": "code",
   "execution_count": 4,
   "metadata": {},
   "outputs": [
    {
     "name": "stdout",
     "output_type": "stream",
     "text": [
      "0 0\n"
     ]
    },
    {
     "name": "stderr",
     "output_type": "stream",
     "text": [
      "b'Skipping line 12: expected 9 fields, saw 12\\nSkipping line 13: expected 9 fields, saw 10\\n'\n",
      "b'Skipping line 3: expected 9 fields, saw 10\\n'\n",
      "b'Skipping line 4: expected 9 fields, saw 10\\nSkipping line 14: expected 9 fields, saw 10\\n'\n"
     ]
    },
    {
     "name": "stdout",
     "output_type": "stream",
     "text": [
      "100 1305\n"
     ]
    },
    {
     "name": "stderr",
     "output_type": "stream",
     "text": [
      "b'Skipping line 12: expected 9 fields, saw 10\\nSkipping line 15: expected 9 fields, saw 10\\nSkipping line 17: expected 9 fields, saw 11\\n'\n",
      "b'Skipping line 5: expected 9 fields, saw 10\\nSkipping line 13: expected 9 fields, saw 10\\n'\n"
     ]
    },
    {
     "name": "stdout",
     "output_type": "stream",
     "text": [
      "200 2617\n",
      "300 4102\n"
     ]
    },
    {
     "name": "stderr",
     "output_type": "stream",
     "text": [
      "b'Skipping line 9: expected 9 fields, saw 10\\n'\n"
     ]
    },
    {
     "name": "stdout",
     "output_type": "stream",
     "text": [
      "400 5380\n"
     ]
    },
    {
     "name": "stderr",
     "output_type": "stream",
     "text": [
      "b'Skipping line 16: expected 9 fields, saw 10\\nSkipping line 17: expected 9 fields, saw 11\\n'\n",
      "b'Skipping line 47: expected 9 fields, saw 10\\n'\n"
     ]
    },
    {
     "name": "stdout",
     "output_type": "stream",
     "text": [
      "500 6695\n"
     ]
    },
    {
     "name": "stderr",
     "output_type": "stream",
     "text": [
      "b'Skipping line 123: expected 9 fields, saw 10\\n'\n"
     ]
    },
    {
     "name": "stdout",
     "output_type": "stream",
     "text": [
      "600 8156\n"
     ]
    },
    {
     "name": "stderr",
     "output_type": "stream",
     "text": [
      "b'Skipping line 13: expected 9 fields, saw 10\\n'\n"
     ]
    },
    {
     "name": "stdout",
     "output_type": "stream",
     "text": [
      "700 9661\n"
     ]
    },
    {
     "name": "stderr",
     "output_type": "stream",
     "text": [
      "b'Skipping line 19: expected 9 fields, saw 10\\n'\n",
      "b'Skipping line 6: expected 9 fields, saw 10\\n'\n",
      "b'Skipping line 15: expected 9 fields, saw 10\\n'\n"
     ]
    },
    {
     "name": "stdout",
     "output_type": "stream",
     "text": [
      "800 11115\n",
      "900 12675\n"
     ]
    },
    {
     "name": "stderr",
     "output_type": "stream",
     "text": [
      "b'Skipping line 15: expected 9 fields, saw 10\\n'\n",
      "b'Skipping line 18: expected 9 fields, saw 10\\n'\n",
      "b'Skipping line 25: expected 9 fields, saw 10\\n'\n"
     ]
    },
    {
     "name": "stdout",
     "output_type": "stream",
     "text": [
      "1000 14120\n"
     ]
    },
    {
     "name": "stderr",
     "output_type": "stream",
     "text": [
      "b'Skipping line 9: expected 9 fields, saw 10\\n'\n"
     ]
    },
    {
     "name": "stdout",
     "output_type": "stream",
     "text": [
      "1100 15586\n"
     ]
    },
    {
     "name": "stderr",
     "output_type": "stream",
     "text": [
      "b'Skipping line 3: expected 9 fields, saw 10\\n'\n",
      "b'Skipping line 21: expected 9 fields, saw 10\\n'\n"
     ]
    },
    {
     "name": "stdout",
     "output_type": "stream",
     "text": [
      "1200 16993\n"
     ]
    },
    {
     "name": "stderr",
     "output_type": "stream",
     "text": [
      "b'Skipping line 23: expected 9 fields, saw 10\\n'\n"
     ]
    },
    {
     "name": "stdout",
     "output_type": "stream",
     "text": [
      "1300 18402\n",
      "1400 19677\n"
     ]
    },
    {
     "name": "stderr",
     "output_type": "stream",
     "text": [
      "b'Skipping line 11: expected 9 fields, saw 10\\n'\n",
      "b'Skipping line 5: expected 9 fields, saw 10\\n'\n",
      "b'Skipping line 23: expected 9 fields, saw 10\\n'\n"
     ]
    },
    {
     "name": "stdout",
     "output_type": "stream",
     "text": [
      "1500 21122\n"
     ]
    },
    {
     "name": "stderr",
     "output_type": "stream",
     "text": [
      "b'Skipping line 3: expected 9 fields, saw 10\\n'\n"
     ]
    },
    {
     "name": "stdout",
     "output_type": "stream",
     "text": [
      "1600 22807\n"
     ]
    },
    {
     "name": "stderr",
     "output_type": "stream",
     "text": [
      "b'Skipping line 6: expected 9 fields, saw 10\\n'\n",
      "b'Skipping line 7: expected 9 fields, saw 12\\nSkipping line 8: expected 9 fields, saw 10\\n'\n",
      "b'Skipping line 12: expected 9 fields, saw 10\\nSkipping line 13: expected 9 fields, saw 10\\nSkipping line 14: expected 9 fields, saw 10\\n'\n",
      "b'Skipping line 4: expected 9 fields, saw 10\\n'\n"
     ]
    },
    {
     "name": "stdout",
     "output_type": "stream",
     "text": [
      "1700 24099\n"
     ]
    },
    {
     "name": "stderr",
     "output_type": "stream",
     "text": [
      "b'Skipping line 6: expected 9 fields, saw 10\\n'\n",
      "b'Skipping line 8: expected 9 fields, saw 10\\nSkipping line 10: expected 9 fields, saw 10\\n'\n",
      "b'Skipping line 7: expected 9 fields, saw 10\\n'\n",
      "b'Skipping line 8: expected 9 fields, saw 10\\n'\n"
     ]
    },
    {
     "name": "stdout",
     "output_type": "stream",
     "text": [
      "1800 25343\n",
      "1900 26812\n"
     ]
    },
    {
     "name": "stderr",
     "output_type": "stream",
     "text": [
      "b'Skipping line 21: expected 9 fields, saw 10\\n'\n",
      "b'Skipping line 13: expected 9 fields, saw 10\\nSkipping line 14: expected 9 fields, saw 10\\nSkipping line 29: expected 9 fields, saw 10\\nSkipping line 30: expected 9 fields, saw 10\\nSkipping line 41: expected 9 fields, saw 10\\n'\n"
     ]
    },
    {
     "name": "stdout",
     "output_type": "stream",
     "text": [
      "2000 28125\n"
     ]
    },
    {
     "name": "stderr",
     "output_type": "stream",
     "text": [
      "b'Skipping line 71: expected 9 fields, saw 10\\n'\n"
     ]
    },
    {
     "name": "stdout",
     "output_type": "stream",
     "text": [
      "2100 29554\n"
     ]
    },
    {
     "name": "stderr",
     "output_type": "stream",
     "text": [
      "b'Skipping line 11: expected 9 fields, saw 10\\nSkipping line 12: expected 9 fields, saw 10\\nSkipping line 14: expected 9 fields, saw 10\\nSkipping line 15: expected 9 fields, saw 10\\nSkipping line 16: expected 9 fields, saw 10\\n'\n",
      "b'Skipping line 5: expected 9 fields, saw 10\\nSkipping line 7: expected 9 fields, saw 10\\n'\n"
     ]
    },
    {
     "name": "stdout",
     "output_type": "stream",
     "text": [
      "2200 30909\n",
      "2300 32341\n"
     ]
    },
    {
     "name": "stderr",
     "output_type": "stream",
     "text": [
      "b'Skipping line 11: expected 9 fields, saw 10\\nSkipping line 12: expected 9 fields, saw 10\\n'\n",
      "b'Skipping line 3: expected 9 fields, saw 11\\nSkipping line 4: expected 9 fields, saw 10\\nSkipping line 8: expected 9 fields, saw 10\\n'\n",
      "b'Skipping line 2: expected 9 fields, saw 10\\nSkipping line 6: expected 9 fields, saw 10\\nSkipping line 10: expected 9 fields, saw 10\\nSkipping line 13: expected 9 fields, saw 10\\n'\n"
     ]
    },
    {
     "name": "stdout",
     "output_type": "stream",
     "text": [
      "2400 33721\n"
     ]
    },
    {
     "name": "stderr",
     "output_type": "stream",
     "text": [
      "b'Skipping line 19: expected 9 fields, saw 10\\n'\n",
      "b'Skipping line 9: expected 9 fields, saw 10\\n'\n",
      "b'Skipping line 8: expected 9 fields, saw 10\\n'\n"
     ]
    },
    {
     "name": "stdout",
     "output_type": "stream",
     "text": [
      "2500 35000\n"
     ]
    },
    {
     "name": "stderr",
     "output_type": "stream",
     "text": [
      "b'Skipping line 14: expected 9 fields, saw 10\\n'\n",
      "b'Skipping line 10: expected 9 fields, saw 10\\nSkipping line 11: expected 9 fields, saw 10\\n'\n",
      "b'Skipping line 9: expected 9 fields, saw 10\\n'\n"
     ]
    },
    {
     "name": "stdout",
     "output_type": "stream",
     "text": [
      "2600 36498\n"
     ]
    },
    {
     "name": "stderr",
     "output_type": "stream",
     "text": [
      "b'Skipping line 8: expected 9 fields, saw 10\\n'\n",
      "b'Skipping line 4: expected 9 fields, saw 11\\n'\n",
      "b'Skipping line 27: expected 9 fields, saw 10\\nSkipping line 28: expected 9 fields, saw 10\\n'\n"
     ]
    },
    {
     "name": "stdout",
     "output_type": "stream",
     "text": [
      "2700 37865\n"
     ]
    },
    {
     "name": "stderr",
     "output_type": "stream",
     "text": [
      "b'Skipping line 5: expected 9 fields, saw 10\\n'\n"
     ]
    },
    {
     "name": "stdout",
     "output_type": "stream",
     "text": [
      "2800 39172\n"
     ]
    },
    {
     "name": "stderr",
     "output_type": "stream",
     "text": [
      "b'Skipping line 7: expected 9 fields, saw 10\\n'\n"
     ]
    },
    {
     "name": "stdout",
     "output_type": "stream",
     "text": [
      "2900 40626\n"
     ]
    },
    {
     "name": "stderr",
     "output_type": "stream",
     "text": [
      "b'Skipping line 8: expected 9 fields, saw 10\\n'\n"
     ]
    },
    {
     "name": "stdout",
     "output_type": "stream",
     "text": [
      "3000 41815\n"
     ]
    },
    {
     "name": "stderr",
     "output_type": "stream",
     "text": [
      "b'Skipping line 2: expected 9 fields, saw 10\\n'\n",
      "b'Skipping line 11: expected 9 fields, saw 10\\n'\n"
     ]
    },
    {
     "name": "stdout",
     "output_type": "stream",
     "text": [
      "3100 43482\n"
     ]
    },
    {
     "name": "stderr",
     "output_type": "stream",
     "text": [
      "b'Skipping line 25: expected 9 fields, saw 10\\n'\n",
      "b'Skipping line 3: expected 9 fields, saw 10\\nSkipping line 5: expected 9 fields, saw 10\\n'\n"
     ]
    },
    {
     "name": "stdout",
     "output_type": "stream",
     "text": [
      "3200 44849\n"
     ]
    },
    {
     "name": "stderr",
     "output_type": "stream",
     "text": [
      "b'Skipping line 47: expected 9 fields, saw 10\\n'\n",
      "b'Skipping line 42: expected 9 fields, saw 10\\n'\n"
     ]
    },
    {
     "name": "stdout",
     "output_type": "stream",
     "text": [
      "3300 46320\n",
      "3400 47854\n"
     ]
    },
    {
     "name": "stderr",
     "output_type": "stream",
     "text": [
      "b'Skipping line 5: expected 9 fields, saw 10\\n'\n"
     ]
    },
    {
     "name": "stdout",
     "output_type": "stream",
     "text": [
      "3500 49295\n"
     ]
    },
    {
     "name": "stderr",
     "output_type": "stream",
     "text": [
      "b'Skipping line 72: expected 9 fields, saw 10\\n'\n",
      "b'Skipping line 11: expected 9 fields, saw 11\\n'\n",
      "b'Skipping line 9: expected 9 fields, saw 10\\n'\n"
     ]
    },
    {
     "name": "stdout",
     "output_type": "stream",
     "text": [
      "3600 50609\n"
     ]
    },
    {
     "name": "stderr",
     "output_type": "stream",
     "text": [
      "b'Skipping line 9: expected 9 fields, saw 10\\nSkipping line 13: expected 9 fields, saw 10\\n'\n"
     ]
    },
    {
     "name": "stdout",
     "output_type": "stream",
     "text": [
      "3700 52044\n"
     ]
    },
    {
     "name": "stderr",
     "output_type": "stream",
     "text": [
      "b'Skipping line 7: expected 9 fields, saw 10\\n'\n",
      "b'Skipping line 8: expected 9 fields, saw 10\\n'\n"
     ]
    },
    {
     "name": "stdout",
     "output_type": "stream",
     "text": [
      "3800 53360\n"
     ]
    },
    {
     "name": "stderr",
     "output_type": "stream",
     "text": [
      "b'Skipping line 11: expected 9 fields, saw 10\\n'\n"
     ]
    },
    {
     "name": "stdout",
     "output_type": "stream",
     "text": [
      "3900 54969\n"
     ]
    },
    {
     "name": "stderr",
     "output_type": "stream",
     "text": [
      "b'Skipping line 5: expected 9 fields, saw 10\\n'\n",
      "b'Skipping line 9: expected 9 fields, saw 10\\n'\n",
      "b'Skipping line 15: expected 9 fields, saw 10\\n'\n"
     ]
    },
    {
     "name": "stdout",
     "output_type": "stream",
     "text": [
      "4000 56320\n"
     ]
    },
    {
     "name": "stderr",
     "output_type": "stream",
     "text": [
      "b'Skipping line 8: expected 9 fields, saw 10\\nSkipping line 13: expected 9 fields, saw 10\\n'\n",
      "b'Skipping line 27: expected 9 fields, saw 10\\n'\n",
      "b'Skipping line 10: expected 9 fields, saw 10\\n'\n",
      "b'Skipping line 49: expected 9 fields, saw 10\\n'\n",
      "b'Skipping line 25: expected 9 fields, saw 10\\n'\n"
     ]
    },
    {
     "name": "stdout",
     "output_type": "stream",
     "text": [
      "4100 57818\n"
     ]
    },
    {
     "name": "stderr",
     "output_type": "stream",
     "text": [
      "b'Skipping line 5: expected 9 fields, saw 10\\n'\n",
      "b'Skipping line 2: expected 9 fields, saw 11\\nSkipping line 3: expected 9 fields, saw 11\\nSkipping line 4: expected 9 fields, saw 10\\nSkipping line 5: expected 9 fields, saw 11\\n'\n",
      "b'Skipping line 8: expected 9 fields, saw 10\\nSkipping line 12: expected 9 fields, saw 10\\n'\n",
      "b'Skipping line 30: expected 9 fields, saw 10\\n'\n"
     ]
    },
    {
     "name": "stdout",
     "output_type": "stream",
     "text": [
      "4200 59311\n"
     ]
    },
    {
     "name": "stderr",
     "output_type": "stream",
     "text": [
      "b'Skipping line 9: expected 9 fields, saw 10\\n'\n",
      "b'Skipping line 15: expected 9 fields, saw 11\\n'\n",
      "b'Skipping line 10: expected 9 fields, saw 10\\n'\n"
     ]
    },
    {
     "name": "stdout",
     "output_type": "stream",
     "text": [
      "4300 60793\n",
      "4400 62261\n"
     ]
    },
    {
     "name": "stderr",
     "output_type": "stream",
     "text": [
      "b'Skipping line 7: expected 9 fields, saw 12\\n'\n",
      "b'Skipping line 33: expected 9 fields, saw 10\\n'\n"
     ]
    },
    {
     "name": "stdout",
     "output_type": "stream",
     "text": [
      "4500 63607\n"
     ]
    },
    {
     "name": "stderr",
     "output_type": "stream",
     "text": [
      "b'Skipping line 15: expected 9 fields, saw 10\\nSkipping line 27: expected 9 fields, saw 10\\n'\n"
     ]
    },
    {
     "name": "stdout",
     "output_type": "stream",
     "text": [
      "4600 65199\n",
      "4700 66629\n"
     ]
    },
    {
     "name": "stderr",
     "output_type": "stream",
     "text": [
      "b'Skipping line 8: expected 9 fields, saw 10\\nSkipping line 12: expected 9 fields, saw 10\\nSkipping line 13: expected 9 fields, saw 10\\n'\n",
      "b'Skipping line 8: expected 9 fields, saw 10\\n'\n"
     ]
    },
    {
     "name": "stdout",
     "output_type": "stream",
     "text": [
      "4800 68119\n"
     ]
    },
    {
     "name": "stderr",
     "output_type": "stream",
     "text": [
      "b'Skipping line 3: expected 9 fields, saw 10\\n'\n",
      "b'Skipping line 102: expected 9 fields, saw 10\\n'\n"
     ]
    },
    {
     "name": "stdout",
     "output_type": "stream",
     "text": [
      "4900 69932\n"
     ]
    },
    {
     "name": "stderr",
     "output_type": "stream",
     "text": [
      "b'Skipping line 3: expected 9 fields, saw 10\\nSkipping line 4: expected 9 fields, saw 11\\n'\n",
      "b'Skipping line 27: expected 9 fields, saw 10\\n'\n"
     ]
    },
    {
     "name": "stdout",
     "output_type": "stream",
     "text": [
      "5000 71193\n"
     ]
    },
    {
     "name": "stderr",
     "output_type": "stream",
     "text": [
      "b'Skipping line 2: expected 9 fields, saw 10\\nSkipping line 3: expected 9 fields, saw 10\\nSkipping line 72: expected 9 fields, saw 10\\n'\n",
      "b'Skipping line 37: expected 9 fields, saw 10\\n'\n"
     ]
    },
    {
     "name": "stdout",
     "output_type": "stream",
     "text": [
      "5100 72849\n"
     ]
    },
    {
     "name": "stderr",
     "output_type": "stream",
     "text": [
      "b'Skipping line 19: expected 9 fields, saw 10\\n'\n"
     ]
    },
    {
     "name": "stdout",
     "output_type": "stream",
     "text": [
      "5200 74287\n",
      "5300 75624\n"
     ]
    },
    {
     "name": "stderr",
     "output_type": "stream",
     "text": [
      "b'Skipping line 4: expected 9 fields, saw 10\\n'\n",
      "b'Skipping line 14: expected 9 fields, saw 10\\n'\n",
      "b'Skipping line 5: expected 9 fields, saw 10\\n'\n"
     ]
    },
    {
     "name": "stdout",
     "output_type": "stream",
     "text": [
      "5400 77306\n"
     ]
    },
    {
     "name": "stderr",
     "output_type": "stream",
     "text": [
      "b'Skipping line 7: expected 9 fields, saw 10\\nSkipping line 8: expected 9 fields, saw 11\\n'\n",
      "b'Skipping line 9: expected 9 fields, saw 10\\n'\n",
      "b'Skipping line 12: expected 9 fields, saw 10\\n'\n"
     ]
    },
    {
     "name": "stdout",
     "output_type": "stream",
     "text": [
      "5500 78824\n"
     ]
    },
    {
     "name": "stderr",
     "output_type": "stream",
     "text": [
      "b'Skipping line 15: expected 9 fields, saw 10\\n'\n"
     ]
    },
    {
     "name": "stdout",
     "output_type": "stream",
     "text": [
      "5600 80321\n",
      "5700 81688\n",
      "5800 82985\n"
     ]
    },
    {
     "name": "stderr",
     "output_type": "stream",
     "text": [
      "b'Skipping line 68: expected 9 fields, saw 10\\n'\n"
     ]
    },
    {
     "name": "stdout",
     "output_type": "stream",
     "text": [
      "5900 84317\n"
     ]
    },
    {
     "name": "stderr",
     "output_type": "stream",
     "text": [
      "b'Skipping line 5: expected 9 fields, saw 10\\n'\n",
      "b'Skipping line 18: expected 9 fields, saw 10\\n'\n"
     ]
    },
    {
     "name": "stdout",
     "output_type": "stream",
     "text": [
      "6000 85610\n"
     ]
    },
    {
     "name": "stderr",
     "output_type": "stream",
     "text": [
      "b'Skipping line 15: expected 9 fields, saw 10\\nSkipping line 18: expected 9 fields, saw 10\\n'\n",
      "b'Skipping line 5: expected 9 fields, saw 10\\n'\n"
     ]
    },
    {
     "name": "stdout",
     "output_type": "stream",
     "text": [
      "6100 86969\n"
     ]
    },
    {
     "name": "stderr",
     "output_type": "stream",
     "text": [
      "b'Skipping line 29: expected 9 fields, saw 10\\n'\n",
      "b'Skipping line 9: expected 9 fields, saw 10\\n'\n",
      "b'Skipping line 4: expected 9 fields, saw 10\\n'\n"
     ]
    },
    {
     "name": "stdout",
     "output_type": "stream",
     "text": [
      "6200 88510\n"
     ]
    },
    {
     "name": "stderr",
     "output_type": "stream",
     "text": [
      "b'Skipping line 13: expected 9 fields, saw 10\\n'\n"
     ]
    },
    {
     "name": "stdout",
     "output_type": "stream",
     "text": [
      "6300 90013\n"
     ]
    },
    {
     "name": "stderr",
     "output_type": "stream",
     "text": [
      "b'Skipping line 2: expected 9 fields, saw 11\\n'\n",
      "b'Skipping line 2: expected 9 fields, saw 10\\n'\n",
      "b'Skipping line 6: expected 9 fields, saw 10\\n'\n"
     ]
    },
    {
     "name": "stdout",
     "output_type": "stream",
     "text": [
      "6400 91298\n",
      "6500 92663\n",
      "6600 94119\n",
      "6700 95509\n"
     ]
    },
    {
     "name": "stderr",
     "output_type": "stream",
     "text": [
      "b'Skipping line 21: expected 9 fields, saw 10\\nSkipping line 22: expected 9 fields, saw 10\\n'\n",
      "b'Skipping line 6: expected 9 fields, saw 10\\n'\n",
      "b'Skipping line 14: expected 9 fields, saw 10\\n'\n"
     ]
    },
    {
     "name": "stdout",
     "output_type": "stream",
     "text": [
      "6800 96925\n"
     ]
    },
    {
     "name": "stderr",
     "output_type": "stream",
     "text": [
      "b'Skipping line 24: expected 9 fields, saw 10\\n'\n",
      "b'Skipping line 10: expected 9 fields, saw 10\\nSkipping line 14: expected 9 fields, saw 10\\nSkipping line 15: expected 9 fields, saw 10\\n'\n",
      "b'Skipping line 50: expected 9 fields, saw 10\\nSkipping line 191: expected 9 fields, saw 10\\n'\n"
     ]
    },
    {
     "name": "stdout",
     "output_type": "stream",
     "text": [
      "6900 98617\n",
      "7000 99918\n",
      "7100 101233\n"
     ]
    },
    {
     "name": "stderr",
     "output_type": "stream",
     "text": [
      "b'Skipping line 19: expected 9 fields, saw 10\\n'\n"
     ]
    },
    {
     "name": "stdout",
     "output_type": "stream",
     "text": [
      "7200 102649\n"
     ]
    },
    {
     "name": "stderr",
     "output_type": "stream",
     "text": [
      "b'Skipping line 22: expected 9 fields, saw 11\\n'\n"
     ]
    },
    {
     "name": "stdout",
     "output_type": "stream",
     "text": [
      "7300 103903\n"
     ]
    },
    {
     "name": "stderr",
     "output_type": "stream",
     "text": [
      "b'Skipping line 36: expected 9 fields, saw 10\\n'\n",
      "b'Skipping line 5: expected 9 fields, saw 10\\n'\n",
      "b'Skipping line 3: expected 9 fields, saw 10\\n'\n"
     ]
    },
    {
     "name": "stdout",
     "output_type": "stream",
     "text": [
      "7400 105205\n"
     ]
    },
    {
     "name": "stderr",
     "output_type": "stream",
     "text": [
      "b'Skipping line 20: expected 9 fields, saw 10\\n'\n",
      "b'Skipping line 3: expected 9 fields, saw 10\\n'\n",
      "b'Skipping line 6: expected 9 fields, saw 11\\nSkipping line 8: expected 9 fields, saw 11\\n'\n",
      "b'Skipping line 43: expected 9 fields, saw 10\\n'\n"
     ]
    },
    {
     "name": "stdout",
     "output_type": "stream",
     "text": [
      "7500 106481\n"
     ]
    },
    {
     "name": "stderr",
     "output_type": "stream",
     "text": [
      "b'Skipping line 63: expected 9 fields, saw 10\\n'\n",
      "b'Skipping line 22: expected 9 fields, saw 10\\n'\n"
     ]
    },
    {
     "name": "stdout",
     "output_type": "stream",
     "text": [
      "7600 108077\n"
     ]
    },
    {
     "name": "stderr",
     "output_type": "stream",
     "text": [
      "b'Skipping line 90: expected 9 fields, saw 10\\n'\n",
      "b'Skipping line 6: expected 9 fields, saw 10\\nSkipping line 7: expected 9 fields, saw 10\\n'\n",
      "b'Skipping line 18: expected 9 fields, saw 10\\n'\n"
     ]
    },
    {
     "name": "stdout",
     "output_type": "stream",
     "text": [
      "7700 109522\n"
     ]
    },
    {
     "name": "stderr",
     "output_type": "stream",
     "text": [
      "b'Skipping line 54: expected 9 fields, saw 10\\n'\n",
      "b'Skipping line 14: expected 9 fields, saw 11\\nSkipping line 15: expected 9 fields, saw 10\\n'\n",
      "b'Skipping line 9: expected 9 fields, saw 10\\nSkipping line 13: expected 9 fields, saw 10\\nSkipping line 19: expected 9 fields, saw 10\\n'\n",
      "b'Skipping line 10: expected 9 fields, saw 10\\n'\n",
      "b'Skipping line 4: expected 9 fields, saw 10\\n'\n"
     ]
    },
    {
     "name": "stdout",
     "output_type": "stream",
     "text": [
      "7800 111115\n"
     ]
    },
    {
     "name": "stderr",
     "output_type": "stream",
     "text": [
      "b'Skipping line 4: expected 9 fields, saw 10\\nSkipping line 7: expected 9 fields, saw 10\\nSkipping line 9: expected 9 fields, saw 10\\nSkipping line 14: expected 9 fields, saw 10\\n'\n",
      "b'Skipping line 21: expected 9 fields, saw 10\\n'\n",
      "b'Skipping line 25: expected 9 fields, saw 10\\nSkipping line 26: expected 9 fields, saw 10\\n'\n"
     ]
    },
    {
     "name": "stdout",
     "output_type": "stream",
     "text": [
      "7900 112557\n"
     ]
    },
    {
     "name": "stderr",
     "output_type": "stream",
     "text": [
      "b'Skipping line 17: expected 9 fields, saw 10\\n'\n"
     ]
    },
    {
     "name": "stdout",
     "output_type": "stream",
     "text": [
      "8000 114064\n"
     ]
    },
    {
     "name": "stderr",
     "output_type": "stream",
     "text": [
      "b'Skipping line 43: expected 9 fields, saw 10\\n'\n"
     ]
    },
    {
     "name": "stdout",
     "output_type": "stream",
     "text": [
      "8100 115675\n"
     ]
    },
    {
     "name": "stderr",
     "output_type": "stream",
     "text": [
      "b'Skipping line 6: expected 9 fields, saw 10\\n'\n"
     ]
    },
    {
     "name": "stdout",
     "output_type": "stream",
     "text": [
      "8200 117088\n"
     ]
    },
    {
     "name": "stderr",
     "output_type": "stream",
     "text": [
      "b'Skipping line 3: expected 9 fields, saw 10\\n'\n"
     ]
    },
    {
     "name": "stdout",
     "output_type": "stream",
     "text": [
      "8300 118438\n"
     ]
    },
    {
     "name": "stderr",
     "output_type": "stream",
     "text": [
      "b'Skipping line 34: expected 9 fields, saw 10\\n'\n",
      "b'Skipping line 6: expected 9 fields, saw 10\\n'\n"
     ]
    },
    {
     "name": "stdout",
     "output_type": "stream",
     "text": [
      "8400 119737\n",
      "8500 121102\n"
     ]
    },
    {
     "name": "stderr",
     "output_type": "stream",
     "text": [
      "b'Skipping line 6: expected 9 fields, saw 10\\nSkipping line 10: expected 9 fields, saw 10\\n'\n",
      "b'Skipping line 8: expected 9 fields, saw 10\\nSkipping line 9: expected 9 fields, saw 11\\nSkipping line 11: expected 9 fields, saw 11\\n'\n",
      "b'Skipping line 3: expected 9 fields, saw 10\\n'\n"
     ]
    },
    {
     "name": "stdout",
     "output_type": "stream",
     "text": [
      "8600 122507\n"
     ]
    },
    {
     "name": "stderr",
     "output_type": "stream",
     "text": [
      "b'Skipping line 10: expected 9 fields, saw 10\\n'\n"
     ]
    },
    {
     "name": "stdout",
     "output_type": "stream",
     "text": [
      "8700 123677\n",
      "8800 125154\n",
      "8900 126808\n"
     ]
    },
    {
     "name": "stderr",
     "output_type": "stream",
     "text": [
      "b'Skipping line 7: expected 9 fields, saw 10\\nSkipping line 8: expected 9 fields, saw 10\\nSkipping line 9: expected 9 fields, saw 10\\n'\n"
     ]
    },
    {
     "name": "stdout",
     "output_type": "stream",
     "text": [
      "9000 128207\n"
     ]
    },
    {
     "name": "stderr",
     "output_type": "stream",
     "text": [
      "b'Skipping line 3: expected 9 fields, saw 10\\n'\n",
      "b'Skipping line 9: expected 9 fields, saw 10\\n'\n"
     ]
    },
    {
     "name": "stdout",
     "output_type": "stream",
     "text": [
      "9100 129674\n"
     ]
    },
    {
     "name": "stderr",
     "output_type": "stream",
     "text": [
      "b'Skipping line 6: expected 9 fields, saw 10\\n'\n",
      "b'Skipping line 9: expected 9 fields, saw 11\\n'\n",
      "b'Skipping line 2: expected 9 fields, saw 10\\n'\n"
     ]
    },
    {
     "name": "stdout",
     "output_type": "stream",
     "text": [
      "9200 131113\n"
     ]
    },
    {
     "name": "stderr",
     "output_type": "stream",
     "text": [
      "b'Skipping line 3: expected 9 fields, saw 10\\n'\n"
     ]
    },
    {
     "name": "stdout",
     "output_type": "stream",
     "text": [
      "9300 132742\n",
      "9400 134278\n"
     ]
    },
    {
     "name": "stderr",
     "output_type": "stream",
     "text": [
      "b'Skipping line 11: expected 9 fields, saw 10\\nSkipping line 12: expected 9 fields, saw 10\\n'\n",
      "b'Skipping line 10: expected 9 fields, saw 10\\n'\n"
     ]
    },
    {
     "name": "stdout",
     "output_type": "stream",
     "text": [
      "9500 135797\n"
     ]
    },
    {
     "name": "stderr",
     "output_type": "stream",
     "text": [
      "b'Skipping line 4: expected 9 fields, saw 10\\n'\n"
     ]
    },
    {
     "name": "stdout",
     "output_type": "stream",
     "text": [
      "9600 137384\n"
     ]
    },
    {
     "name": "stderr",
     "output_type": "stream",
     "text": [
      "b'Skipping line 20: expected 9 fields, saw 11\\n'\n"
     ]
    },
    {
     "name": "stdout",
     "output_type": "stream",
     "text": [
      "9700 139042\n"
     ]
    },
    {
     "name": "stderr",
     "output_type": "stream",
     "text": [
      "b'Skipping line 2: expected 9 fields, saw 10\\nSkipping line 7: expected 9 fields, saw 11\\n'\n"
     ]
    },
    {
     "name": "stdout",
     "output_type": "stream",
     "text": [
      "9800 140533\n"
     ]
    },
    {
     "name": "stderr",
     "output_type": "stream",
     "text": [
      "b'Skipping line 8: expected 9 fields, saw 10\\n'\n",
      "b'Skipping line 6: expected 9 fields, saw 10\\n'\n"
     ]
    },
    {
     "name": "stdout",
     "output_type": "stream",
     "text": [
      "9900 141873\n"
     ]
    },
    {
     "name": "stderr",
     "output_type": "stream",
     "text": [
      "b'Skipping line 51: expected 9 fields, saw 10\\n'\n",
      "b'Skipping line 8: expected 9 fields, saw 11\\nSkipping line 13: expected 9 fields, saw 11\\n'\n"
     ]
    },
    {
     "name": "stdout",
     "output_type": "stream",
     "text": [
      "10000 143312\n"
     ]
    },
    {
     "name": "stderr",
     "output_type": "stream",
     "text": [
      "b'Skipping line 11: expected 9 fields, saw 10\\n'\n",
      "b'Skipping line 9: expected 9 fields, saw 10\\nSkipping line 13: expected 9 fields, saw 10\\n'\n",
      "b'Skipping line 4: expected 9 fields, saw 10\\n'\n"
     ]
    }
   ],
   "source": [
    "index = 0\n",
    "f = open(sentence_file_path, \"w\", encoding='utf-8')\n",
    "f.write(\"index,content\\n\")\n",
    "for i in range(len(images)):\n",
    "    text_content = pd.read_csv(texts[i], header=None,error_bad_lines=False,quoting=3, encoding='utf-8').loc[:,0:8]\n",
    "    text_content = text_content[text_content[8] != \"###\"]\n",
    "    image_content = Image.open(images[i]).convert('RGB')\n",
    "    if i % 100 == 0:\n",
    "        print(i,index)\n",
    "    for x in text_content.itertuples():\n",
    "        try:\n",
    "            a = preprocessing_image(image_content, list(x[1:9]))\n",
    "        except ZeroDivisionError:\n",
    "            pass\n",
    "        a.save(images_output_path + str(index) + \".jpg\", \"jpeg\")\n",
    "        f.write(str(index) + ',' + str(x[9]) + '\\n')\n",
    "        index = index + 1\n",
    "f.close()"
   ]
  }
 ],
 "metadata": {
  "kernelspec": {
   "display_name": "Python 3",
   "language": "python",
   "name": "python3"
  },
  "language_info": {
   "codemirror_mode": {
    "name": "ipython",
    "version": 3
   },
   "file_extension": ".py",
   "mimetype": "text/x-python",
   "name": "python",
   "nbconvert_exporter": "python",
   "pygments_lexer": "ipython3",
   "version": "3.6.5"
  }
 },
 "nbformat": 4,
 "nbformat_minor": 2
}
